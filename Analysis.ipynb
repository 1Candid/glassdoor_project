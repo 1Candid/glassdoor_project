{
 "cells": [
  {
   "cell_type": "code",
   "execution_count": 1,
   "id": "f53e9134-dddb-4878-8cf8-8a1a18d3d859",
   "metadata": {},
   "outputs": [],
   "source": [
    "import pandas as pd\n",
    "import numpy as np\n",
    "import matplotlib.pyplot as plt"
   ]
  },
  {
   "cell_type": "markdown",
   "id": "0630eb10-cd94-4141-a225-b555d4c930c2",
   "metadata": {
    "jp-MarkdownHeadingCollapsed": true
   },
   "source": [
    "I conducted this data analysis to uncover valuable insights into the field of Data-related jobs. My primary focus was to identify the most sought-after skills in the industry, shedding light on what attributes make a candidate highly desirable. Additionally, I aimed to determine the skills that command the highest compensation from employers. Finally, I wanted to understand the prevalence of applications for senior positions within the dataset, providing a comprehensive overview of the job landscape in the Data domain."
   ]
  },
  {
   "cell_type": "code",
   "execution_count": 2,
   "id": "bb0155fd-ccc3-4891-891b-60b5848f4324",
   "metadata": {},
   "outputs": [
    {
     "data": {
      "text/html": [
       "<div>\n",
       "<style scoped>\n",
       "    .dataframe tbody tr th:only-of-type {\n",
       "        vertical-align: middle;\n",
       "    }\n",
       "\n",
       "    .dataframe tbody tr th {\n",
       "        vertical-align: top;\n",
       "    }\n",
       "\n",
       "    .dataframe thead th {\n",
       "        text-align: right;\n",
       "    }\n",
       "</style>\n",
       "<table border=\"1\" class=\"dataframe\">\n",
       "  <thead>\n",
       "    <tr style=\"text-align: right;\">\n",
       "      <th></th>\n",
       "      <th>Job_Title</th>\n",
       "      <th>Min_Salary</th>\n",
       "      <th>Max_Salary</th>\n",
       "      <th>Avg_Salary</th>\n",
       "      <th>Job_Description</th>\n",
       "      <th>Rating</th>\n",
       "      <th>Company_Name</th>\n",
       "      <th>City</th>\n",
       "      <th>State</th>\n",
       "      <th>Headquarters</th>\n",
       "      <th>...</th>\n",
       "      <th>Title</th>\n",
       "      <th>seniority</th>\n",
       "      <th>python</th>\n",
       "      <th>sql</th>\n",
       "      <th>excel</th>\n",
       "      <th>tableau</th>\n",
       "      <th>power bi</th>\n",
       "      <th>aws</th>\n",
       "      <th>spark</th>\n",
       "      <th>azure</th>\n",
       "    </tr>\n",
       "  </thead>\n",
       "  <tbody>\n",
       "    <tr>\n",
       "      <th>0</th>\n",
       "      <td>Sr Data Scientist</td>\n",
       "      <td>137000</td>\n",
       "      <td>171000</td>\n",
       "      <td>154000</td>\n",
       "      <td>Description\\n\\nThe Senior Data Scientist is re...</td>\n",
       "      <td>3.1</td>\n",
       "      <td>Healthfirst</td>\n",
       "      <td>New York</td>\n",
       "      <td>NY</td>\n",
       "      <td>New York, NY</td>\n",
       "      <td>...</td>\n",
       "      <td>data scientist</td>\n",
       "      <td>NaN</td>\n",
       "      <td>NaN</td>\n",
       "      <td>NaN</td>\n",
       "      <td>NaN</td>\n",
       "      <td>NaN</td>\n",
       "      <td>NaN</td>\n",
       "      <td>aws</td>\n",
       "      <td>NaN</td>\n",
       "      <td>azure</td>\n",
       "    </tr>\n",
       "    <tr>\n",
       "      <th>1</th>\n",
       "      <td>Data Scientist</td>\n",
       "      <td>137000</td>\n",
       "      <td>171000</td>\n",
       "      <td>154000</td>\n",
       "      <td>Secure our Nation, Ignite your Future\\n\\nJoin ...</td>\n",
       "      <td>4.2</td>\n",
       "      <td>ManTech</td>\n",
       "      <td>Chantilly</td>\n",
       "      <td>VA</td>\n",
       "      <td>Herndon, VA</td>\n",
       "      <td>...</td>\n",
       "      <td>data scientist</td>\n",
       "      <td>NaN</td>\n",
       "      <td>NaN</td>\n",
       "      <td>sql</td>\n",
       "      <td>NaN</td>\n",
       "      <td>NaN</td>\n",
       "      <td>NaN</td>\n",
       "      <td>NaN</td>\n",
       "      <td>NaN</td>\n",
       "      <td>NaN</td>\n",
       "    </tr>\n",
       "    <tr>\n",
       "      <th>2</th>\n",
       "      <td>Data Scientist</td>\n",
       "      <td>137000</td>\n",
       "      <td>171000</td>\n",
       "      <td>154000</td>\n",
       "      <td>Overview\\n\\n\\nAnalysis Group is one of the lar...</td>\n",
       "      <td>3.8</td>\n",
       "      <td>Analysis Group</td>\n",
       "      <td>Boston</td>\n",
       "      <td>MA</td>\n",
       "      <td>Boston, MA</td>\n",
       "      <td>...</td>\n",
       "      <td>data scientist</td>\n",
       "      <td>NaN</td>\n",
       "      <td>python</td>\n",
       "      <td>NaN</td>\n",
       "      <td>excel</td>\n",
       "      <td>NaN</td>\n",
       "      <td>NaN</td>\n",
       "      <td>aws</td>\n",
       "      <td>NaN</td>\n",
       "      <td>NaN</td>\n",
       "    </tr>\n",
       "  </tbody>\n",
       "</table>\n",
       "<p>3 rows × 27 columns</p>\n",
       "</div>"
      ],
      "text/plain": [
       "           Job_Title  Min_Salary  Max_Salary  Avg_Salary  \\\n",
       "0  Sr Data Scientist      137000      171000      154000   \n",
       "1     Data Scientist      137000      171000      154000   \n",
       "2     Data Scientist      137000      171000      154000   \n",
       "\n",
       "                                     Job_Description  Rating    Company_Name  \\\n",
       "0  Description\\n\\nThe Senior Data Scientist is re...     3.1     Healthfirst   \n",
       "1  Secure our Nation, Ignite your Future\\n\\nJoin ...     4.2         ManTech   \n",
       "2  Overview\\n\\n\\nAnalysis Group is one of the lar...     3.8  Analysis Group   \n",
       "\n",
       "        City State  Headquarters  ...           Title  seniority  python  sql  \\\n",
       "0   New York    NY  New York, NY  ...  data scientist        NaN     NaN  NaN   \n",
       "1  Chantilly    VA   Herndon, VA  ...  data scientist        NaN     NaN  sql   \n",
       "2     Boston    MA    Boston, MA  ...  data scientist        NaN  python  NaN   \n",
       "\n",
       "   excel tableau power bi  aws spark  azure  \n",
       "0    NaN     NaN      NaN  aws   NaN  azure  \n",
       "1    NaN     NaN      NaN  NaN   NaN    NaN  \n",
       "2  excel     NaN      NaN  aws   NaN    NaN  \n",
       "\n",
       "[3 rows x 27 columns]"
      ]
     },
     "execution_count": 2,
     "metadata": {},
     "output_type": "execute_result"
    }
   ],
   "source": [
    "df = pd.read_csv(r'C:/Users/ADMIN/Folder with projects/Cleanded_DS.csv')\n",
    "del df['Unnamed: 0']\n",
    "df.head(3) "
   ]
  },
  {
   "cell_type": "markdown",
   "id": "acd0d120-4d78-4963-b9f2-b25a8d55b4e7",
   "metadata": {},
   "source": [
    "Here we can see a brief overview of our data, like number of unique values, top values and their frequency. After exploring this overview we can see that we have 537 rows and different number of frequency for skills and seniority. Also I have different objectives but from this overview we can even see state and city with the highest number of opportunities, etc."
   ]
  },
  {
   "cell_type": "code",
   "execution_count": 3,
   "id": "4c7002e5-38cd-47e7-bc76-3d4b6f43ba53",
   "metadata": {},
   "outputs": [
    {
     "data": {
      "text/html": [
       "<div>\n",
       "<style scoped>\n",
       "    .dataframe tbody tr th:only-of-type {\n",
       "        vertical-align: middle;\n",
       "    }\n",
       "\n",
       "    .dataframe tbody tr th {\n",
       "        vertical-align: top;\n",
       "    }\n",
       "\n",
       "    .dataframe thead th {\n",
       "        text-align: right;\n",
       "    }\n",
       "</style>\n",
       "<table border=\"1\" class=\"dataframe\">\n",
       "  <thead>\n",
       "    <tr style=\"text-align: right;\">\n",
       "      <th></th>\n",
       "      <th>Job_Title</th>\n",
       "      <th>Job_Description</th>\n",
       "      <th>Company_Name</th>\n",
       "      <th>City</th>\n",
       "      <th>State</th>\n",
       "      <th>Headquarters</th>\n",
       "      <th>Size</th>\n",
       "      <th>Type_of_ownership</th>\n",
       "      <th>Industry</th>\n",
       "      <th>Sector</th>\n",
       "      <th>...</th>\n",
       "      <th>Title</th>\n",
       "      <th>seniority</th>\n",
       "      <th>python</th>\n",
       "      <th>sql</th>\n",
       "      <th>excel</th>\n",
       "      <th>tableau</th>\n",
       "      <th>power bi</th>\n",
       "      <th>aws</th>\n",
       "      <th>spark</th>\n",
       "      <th>azure</th>\n",
       "    </tr>\n",
       "  </thead>\n",
       "  <tbody>\n",
       "    <tr>\n",
       "      <th>count</th>\n",
       "      <td>537</td>\n",
       "      <td>537</td>\n",
       "      <td>537</td>\n",
       "      <td>537</td>\n",
       "      <td>517</td>\n",
       "      <td>537</td>\n",
       "      <td>537</td>\n",
       "      <td>537</td>\n",
       "      <td>537</td>\n",
       "      <td>537</td>\n",
       "      <td>...</td>\n",
       "      <td>537</td>\n",
       "      <td>45</td>\n",
       "      <td>416</td>\n",
       "      <td>313</td>\n",
       "      <td>244</td>\n",
       "      <td>112</td>\n",
       "      <td>31</td>\n",
       "      <td>138</td>\n",
       "      <td>159</td>\n",
       "      <td>45</td>\n",
       "    </tr>\n",
       "    <tr>\n",
       "      <th>unique</th>\n",
       "      <td>96</td>\n",
       "      <td>401</td>\n",
       "      <td>364</td>\n",
       "      <td>172</td>\n",
       "      <td>37</td>\n",
       "      <td>202</td>\n",
       "      <td>8</td>\n",
       "      <td>11</td>\n",
       "      <td>55</td>\n",
       "      <td>22</td>\n",
       "      <td>...</td>\n",
       "      <td>3</td>\n",
       "      <td>1</td>\n",
       "      <td>1</td>\n",
       "      <td>1</td>\n",
       "      <td>1</td>\n",
       "      <td>1</td>\n",
       "      <td>1</td>\n",
       "      <td>1</td>\n",
       "      <td>1</td>\n",
       "      <td>1</td>\n",
       "    </tr>\n",
       "    <tr>\n",
       "      <th>top</th>\n",
       "      <td>Data Scientist</td>\n",
       "      <td>Do you have a head for numbers? Like turning r...</td>\n",
       "      <td>Maxar Technologies</td>\n",
       "      <td>San Francisco</td>\n",
       "      <td>CA</td>\n",
       "      <td>New York, NY</td>\n",
       "      <td>51 to 200 employees</td>\n",
       "      <td>Company - Private</td>\n",
       "      <td>IT Services</td>\n",
       "      <td>Information Technology</td>\n",
       "      <td>...</td>\n",
       "      <td>data scientist</td>\n",
       "      <td>senior</td>\n",
       "      <td>python</td>\n",
       "      <td>sql</td>\n",
       "      <td>excel</td>\n",
       "      <td>tableau</td>\n",
       "      <td>power bi</td>\n",
       "      <td>aws</td>\n",
       "      <td>spark</td>\n",
       "      <td>azure</td>\n",
       "    </tr>\n",
       "    <tr>\n",
       "      <th>freq</th>\n",
       "      <td>326</td>\n",
       "      <td>4</td>\n",
       "      <td>12</td>\n",
       "      <td>54</td>\n",
       "      <td>133</td>\n",
       "      <td>26</td>\n",
       "      <td>118</td>\n",
       "      <td>334</td>\n",
       "      <td>56</td>\n",
       "      <td>161</td>\n",
       "      <td>...</td>\n",
       "      <td>444</td>\n",
       "      <td>45</td>\n",
       "      <td>416</td>\n",
       "      <td>313</td>\n",
       "      <td>244</td>\n",
       "      <td>112</td>\n",
       "      <td>31</td>\n",
       "      <td>138</td>\n",
       "      <td>159</td>\n",
       "      <td>45</td>\n",
       "    </tr>\n",
       "  </tbody>\n",
       "</table>\n",
       "<p>4 rows × 22 columns</p>\n",
       "</div>"
      ],
      "text/plain": [
       "             Job_Title                                    Job_Description  \\\n",
       "count              537                                                537   \n",
       "unique              96                                                401   \n",
       "top     Data Scientist  Do you have a head for numbers? Like turning r...   \n",
       "freq               326                                                  4   \n",
       "\n",
       "              Company_Name           City State  Headquarters  \\\n",
       "count                  537            537   517           537   \n",
       "unique                 364            172    37           202   \n",
       "top     Maxar Technologies  San Francisco    CA  New York, NY   \n",
       "freq                    12             54   133            26   \n",
       "\n",
       "                       Size  Type_of_ownership     Industry  \\\n",
       "count                   537                537          537   \n",
       "unique                    8                 11           55   \n",
       "top     51 to 200 employees  Company - Private  IT Services   \n",
       "freq                    118                334           56   \n",
       "\n",
       "                        Sector  ...           Title seniority  python  sql  \\\n",
       "count                      537  ...             537        45     416  313   \n",
       "unique                      22  ...               3         1       1    1   \n",
       "top     Information Technology  ...  data scientist    senior  python  sql   \n",
       "freq                       161  ...             444        45     416  313   \n",
       "\n",
       "        excel  tableau  power bi  aws  spark  azure  \n",
       "count     244      112        31  138    159     45  \n",
       "unique      1        1         1    1      1      1  \n",
       "top     excel  tableau  power bi  aws  spark  azure  \n",
       "freq      244      112        31  138    159     45  \n",
       "\n",
       "[4 rows x 22 columns]"
      ]
     },
     "execution_count": 3,
     "metadata": {},
     "output_type": "execute_result"
    }
   ],
   "source": [
    "df.describe(include='object')"
   ]
  },
  {
   "cell_type": "markdown",
   "id": "a67632c2-582f-409c-a857-7a8eddc635fd",
   "metadata": {},
   "source": [
    "Here we can see visualization of skills by popularity. "
   ]
  },
  {
   "cell_type": "code",
   "execution_count": 4,
   "id": "e26f467c-e722-434e-97dc-b2e986640810",
   "metadata": {},
   "outputs": [
    {
     "data": {
      "text/plain": [
       "Text(0.5, 1.0, 'Skills by popularity')"
      ]
     },
     "execution_count": 4,
     "metadata": {},
     "output_type": "execute_result"
    },
    {
     "data": {
      "image/png": "[encoded data removed]",
      "text/plain": [
       "<Figure size 640x480 with 1 Axes>"
      ]
     },
     "metadata": {},
     "output_type": "display_data"
    }
   ],
   "source": [
    "skill_list = ['python','sql', 'excel', 'tableau', 'power bi', 'aws', 'spark', 'azure']\n",
    "skills_sorted = df[skill_list].count().sort_values(ascending=False)\n",
    "skills_sorted.plot(kind='bar')\n",
    "plt.title('Skills by popularity', fontsize=16)"
   ]
  },
  {
   "cell_type": "markdown",
   "id": "ba4fc4be-0300-4f28-ab65-24a42e314708",
   "metadata": {},
   "source": [
    "This graph shows us average annual salary per skill. In my opinion difference is really small, only about ~8% between the lowest and highest annual salary. "
   ]
  },
  {
   "cell_type": "code",
   "execution_count": 5,
   "id": "1903893a-0015-4365-ab17-6c06edda6db6",
   "metadata": {},
   "outputs": [
    {
     "data": {
      "text/plain": [
       "Text(0.5, 1.0, 'Average annual salary per skill')"
      ]
     },
     "execution_count": 5,
     "metadata": {},
     "output_type": "execute_result"
    },
    {
     "data": {
      "image/png": "[encoded data removed]",
      "text/plain": [
       "<Figure size 640x480 with 1 Axes>"
      ]
     },
     "metadata": {},
     "output_type": "display_data"
    }
   ],
   "source": [
    "list_jobs = []\n",
    "for i in skill_list:\n",
    "    filt = df[i] == i\n",
    "    avg_sal = df.loc[filt, 'Avg_Salary'].mean().astype('int')\n",
    "    list_jobs.append({'skill':i, 'avg_salary': avg_sal})\n",
    "\n",
    "df_skill = pd.DataFrame(list_jobs)\n",
    "df_skill_sorted = df_skill.sort_values(by='avg_salary',ascending=False)\n",
    "\n",
    "barplot = plt.bar(x=df_skill_sorted['skill'], height=df_skill_sorted['avg_salary'], width=0.6)\n",
    "plt.bar_label(barplot,labels=df_skill_sorted['avg_salary'], fontsize=9)\n",
    "plt.xticks(fontsize=9)\n",
    "plt.ylim([0, 170000])\n",
    "plt.title(\"Average annual salary per skill\", fontsize=16)"
   ]
  },
  {
   "cell_type": "code",
   "execution_count": 6,
   "id": "e17bec64-601e-4a4d-83ea-123446788b88",
   "metadata": {},
   "outputs": [],
   "source": [
    "dss = df.query(\"Title == 'data scientist' and seniority == 'senior'\")['Title'].count()\n",
    "das = df.query(\"Title == 'data analyst' and seniority == 'senior'\")['Title'].count()\n",
    "des = df.query(\"Title == 'data engineer' and seniority == 'senior'\")['Title'].count()\n",
    "ds = df.query(\"Title == 'data scientist'\")['Title'].count()\n",
    "da = df.query(\"Title == 'data analyst'\")['Title'].count()\n",
    "de = df.query(\"Title == 'data engineer'\")['Title'].count()"
   ]
  },
  {
   "cell_type": "markdown",
   "id": "d3b5dacc-881c-4fcc-8bf5-a760af15f11e",
   "metadata": {},
   "source": [
    "Finally last visualization that shows us ratio between seniors and the number of all data jobs. As we see the number of opportunities for people who don't have level of senior is really high."
   ]
  },
  {
   "cell_type": "code",
   "execution_count": 7,
   "id": "4d15780b-e84c-4f58-94a8-b2810a42df12",
   "metadata": {},
   "outputs": [
    {
     "data": {
      "image/png": "[encoded data removed]",
      "text/plain": [
       "<Figure size 640x480 with 1 Axes>"
      ]
     },
     "metadata": {},
     "output_type": "display_data"
    }
   ],
   "source": [
    "jobs = plt.bar(['data scientist', 'data analyst', 'data engineer'], [ds, da, de], width=-0.5)\n",
    "jobs_senior = plt.bar(['data scientist', 'data analyst', 'data engineer'], [dss,das,des],width=-0.5,color='c')\n",
    "\n",
    "plt.bar_label(jobs, labels = [ds, da, de], fontsize=10)\n",
    "plt.bar_label(jobs_senior, labels = [dss,das,des], fontsize=10, color=\"white\",  fontweight=\"bold\")\n",
    "plt.title(\"Ratio between seniors and the number of all data jobs\", fontsize=16)\n",
    "plt.show()"
   ]
  },
  {
   "cell_type": "markdown",
   "id": "aaa8fbe8-05ea-48d4-bd29-d95ff8cbca5c",
   "metadata": {},
   "source": [
    "In this data analysis project, my primary objective was to gain valuable insights into the Data-related job market. I aimed to identify the most sought-after skills, emphasizing the attributes that make a candidate highly desirable. Additionally, I sought to determine the skills commanding the highest compensation and understand the prevalence of applications for senior positions, offering a comprehensive overview of the Data job landscape.\r\n",
    "\r\n",
    "The initial data overview revealed 537 rows with varying frequencies of skills and senioritd. Subsequent visualizations depicted skill popularity, average annual salaries per skill, and the ratio of senior to overall job opportunities. Notably, the average annual salary differences among skills were relatively small, approximately 8%.\r\n",
    "\r\n",
    "The visualizations serve as valuable tools for decision-making. By analyzing average annual salaries and skill popularity, individuals can prioritize learning skills that align with industry demand and financial incentobs."
   ]
  }
 ],
 "metadata": {
  "kernelspec": {
   "display_name": "Python 3 (ipykernel)",
   "language": "python",
   "name": "python3"
  },
  "language_info": {
   "codemirror_mode": {
    "name": "ipython",
    "version": 3
   },
   "file_extension": ".py",
   "mimetype": "text/x-python",
   "name": "python",
   "nbconvert_exporter": "python",
   "pygments_lexer": "ipython3",
   "version": "3.10.6"
  }
 },
 "nbformat": 4,
 "nbformat_minor": 5
}
