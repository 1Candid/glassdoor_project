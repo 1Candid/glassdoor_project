{
 "cells": [
  {
   "cell_type": "code",
   "execution_count": 1,
   "id": "49be5109-39ed-4f6f-8a08-43d8f3d91f89",
   "metadata": {},
   "outputs": [],
   "source": [
    "import pandas as pd\n",
    "import numpy as np"
   ]
  },
  {
   "cell_type": "markdown",
   "id": "7a01aa84-16bf-47a5-8f16-9e7ade6f73c1",
   "metadata": {},
   "source": [
    "### Cleaning data\n",
    "#### Step by step note about how I have cleaned this data.\n",
    "* Rename all columns and make column __Salary Estimate__ more readible,\n",
    "* Creating __Max_Salary__ and __Min_Salary__ by spliting column __Salary Estimate__ and working with these columns,\n",
    "* Droping duplicates,\n",
    "* Clean and split column __Location__,\n",
    "* Check __Index__ for values beside float,\n",
    "* Column __Rating__ looking for different values and fix values that are lower than 1 to 0,\n",
    "* __Company_Name__ column, cleaning rightside of the every row that has unnecassary information ,\n",
    "* Cleaning column __Headquarters__,\n",
    "* Cleaning column __Size__,\n",
    "* Cleaning column __Type of ownership__,\n",
    "* Cleaning column __Industry__,\n",
    "* Cleaning column __Sector__, \n",
    "* Cleaning column __Revenue__,\n",
    "* Cleaning column __Competitors__,\n",
    "* Deleting __Salary Estimate__, __Location__ and __index__ columns,\n",
    "* Cleaning column __Max_Salary__,\n",
    "* Creating a column which will have job name (data analyst, data engineer or data scientist) if this job name is in __Job_Title__,\n",
    "* Creating column __seniority__,\n",
    "* Creating columns for every key skill if it is in column __Job_Description__,\n",
    "* New order for columns,\n",
    "* Write clean and modified data to new csv file"
   ]
  },
  {
   "cell_type": "code",
   "execution_count": 2,
   "id": "500f7cf0-635a-4acd-a92a-11ae282774fe",
   "metadata": {
    "scrolled": true
   },
   "outputs": [
    {
     "data": {
      "text/html": [
       "<div>\n",
       "<style scoped>\n",
       "    .dataframe tbody tr th:only-of-type {\n",
       "        vertical-align: middle;\n",
       "    }\n",
       "\n",
       "    .dataframe tbody tr th {\n",
       "        vertical-align: top;\n",
       "    }\n",
       "\n",
       "    .dataframe thead th {\n",
       "        text-align: right;\n",
       "    }\n",
       "</style>\n",
       "<table border=\"1\" class=\"dataframe\">\n",
       "  <thead>\n",
       "    <tr style=\"text-align: right;\">\n",
       "      <th></th>\n",
       "      <th>index</th>\n",
       "      <th>Job Title</th>\n",
       "      <th>Salary Estimate</th>\n",
       "      <th>Job Description</th>\n",
       "      <th>Rating</th>\n",
       "      <th>Company Name</th>\n",
       "      <th>Location</th>\n",
       "      <th>Headquarters</th>\n",
       "      <th>Size</th>\n",
       "      <th>Founded</th>\n",
       "      <th>Type of ownership</th>\n",
       "      <th>Industry</th>\n",
       "      <th>Sector</th>\n",
       "      <th>Revenue</th>\n",
       "      <th>Competitors</th>\n",
       "    </tr>\n",
       "  </thead>\n",
       "  <tbody>\n",
       "    <tr>\n",
       "      <th>0</th>\n",
       "      <td>0</td>\n",
       "      <td>Sr Data Scientist</td>\n",
       "      <td>$137K-$171K (Glassdoor est.)</td>\n",
       "      <td>Description\\n\\nThe Senior Data Scientist is re...</td>\n",
       "      <td>3.1</td>\n",
       "      <td>Healthfirst\\n3.1</td>\n",
       "      <td>New York, NY</td>\n",
       "      <td>New York, NY</td>\n",
       "      <td>1001 to 5000 employees</td>\n",
       "      <td>1993</td>\n",
       "      <td>Nonprofit Organization</td>\n",
       "      <td>Insurance Carriers</td>\n",
       "      <td>Insurance</td>\n",
       "      <td>Unknown / Non-Applicable</td>\n",
       "      <td>EmblemHealth, UnitedHealth Group, Aetna</td>\n",
       "    </tr>\n",
       "    <tr>\n",
       "      <th>1</th>\n",
       "      <td>1</td>\n",
       "      <td>Data Scientist</td>\n",
       "      <td>$137K-$171K (Glassdoor est.)</td>\n",
       "      <td>Secure our Nation, Ignite your Future\\n\\nJoin ...</td>\n",
       "      <td>4.2</td>\n",
       "      <td>ManTech\\n4.2</td>\n",
       "      <td>Chantilly, VA</td>\n",
       "      <td>Herndon, VA</td>\n",
       "      <td>5001 to 10000 employees</td>\n",
       "      <td>1968</td>\n",
       "      <td>Company - Public</td>\n",
       "      <td>Research &amp; Development</td>\n",
       "      <td>Business Services</td>\n",
       "      <td>$1 to $2 billion (USD)</td>\n",
       "      <td>-1</td>\n",
       "    </tr>\n",
       "    <tr>\n",
       "      <th>2</th>\n",
       "      <td>2</td>\n",
       "      <td>Data Scientist</td>\n",
       "      <td>$137K-$171K (Glassdoor est.)</td>\n",
       "      <td>Overview\\n\\n\\nAnalysis Group is one of the lar...</td>\n",
       "      <td>3.8</td>\n",
       "      <td>Analysis Group\\n3.8</td>\n",
       "      <td>Boston, MA</td>\n",
       "      <td>Boston, MA</td>\n",
       "      <td>1001 to 5000 employees</td>\n",
       "      <td>1981</td>\n",
       "      <td>Private Practice / Firm</td>\n",
       "      <td>Consulting</td>\n",
       "      <td>Business Services</td>\n",
       "      <td>$100 to $500 million (USD)</td>\n",
       "      <td>-1</td>\n",
       "    </tr>\n",
       "    <tr>\n",
       "      <th>3</th>\n",
       "      <td>3</td>\n",
       "      <td>Data Scientist</td>\n",
       "      <td>$137K-$171K (Glassdoor est.)</td>\n",
       "      <td>JOB DESCRIPTION:\\n\\nDo you have a passion for ...</td>\n",
       "      <td>3.5</td>\n",
       "      <td>INFICON\\n3.5</td>\n",
       "      <td>Newton, MA</td>\n",
       "      <td>Bad Ragaz, Switzerland</td>\n",
       "      <td>501 to 1000 employees</td>\n",
       "      <td>2000</td>\n",
       "      <td>Company - Public</td>\n",
       "      <td>Electrical &amp; Electronic Manufacturing</td>\n",
       "      <td>Manufacturing</td>\n",
       "      <td>$100 to $500 million (USD)</td>\n",
       "      <td>MKS Instruments, Pfeiffer Vacuum, Agilent Tech...</td>\n",
       "    </tr>\n",
       "    <tr>\n",
       "      <th>4</th>\n",
       "      <td>4</td>\n",
       "      <td>Data Scientist</td>\n",
       "      <td>$137K-$171K (Glassdoor est.)</td>\n",
       "      <td>Data Scientist\\nAffinity Solutions / Marketing...</td>\n",
       "      <td>2.9</td>\n",
       "      <td>Affinity Solutions\\n2.9</td>\n",
       "      <td>New York, NY</td>\n",
       "      <td>New York, NY</td>\n",
       "      <td>51 to 200 employees</td>\n",
       "      <td>1998</td>\n",
       "      <td>Company - Private</td>\n",
       "      <td>Advertising &amp; Marketing</td>\n",
       "      <td>Business Services</td>\n",
       "      <td>Unknown / Non-Applicable</td>\n",
       "      <td>Commerce Signals, Cardlytics, Yodlee</td>\n",
       "    </tr>\n",
       "    <tr>\n",
       "      <th>5</th>\n",
       "      <td>5</td>\n",
       "      <td>Data Scientist</td>\n",
       "      <td>$137K-$171K (Glassdoor est.)</td>\n",
       "      <td>About Us:\\n\\nHeadquartered in beautiful Santa ...</td>\n",
       "      <td>4.2</td>\n",
       "      <td>HG Insights\\n4.2</td>\n",
       "      <td>Santa Barbara, CA</td>\n",
       "      <td>Santa Barbara, CA</td>\n",
       "      <td>51 to 200 employees</td>\n",
       "      <td>2010</td>\n",
       "      <td>Company - Private</td>\n",
       "      <td>Computer Hardware &amp; Software</td>\n",
       "      <td>Information Technology</td>\n",
       "      <td>Unknown / Non-Applicable</td>\n",
       "      <td>-1</td>\n",
       "    </tr>\n",
       "    <tr>\n",
       "      <th>6</th>\n",
       "      <td>6</td>\n",
       "      <td>Data Scientist / Machine Learning Expert</td>\n",
       "      <td>$137K-$171K (Glassdoor est.)</td>\n",
       "      <td>Posting Title\\nData Scientist / Machine Learni...</td>\n",
       "      <td>3.9</td>\n",
       "      <td>Novartis\\n3.9</td>\n",
       "      <td>Cambridge, MA</td>\n",
       "      <td>Basel, Switzerland</td>\n",
       "      <td>10000+ employees</td>\n",
       "      <td>1996</td>\n",
       "      <td>Company - Public</td>\n",
       "      <td>Biotech &amp; Pharmaceuticals</td>\n",
       "      <td>Biotech &amp; Pharmaceuticals</td>\n",
       "      <td>$10+ billion (USD)</td>\n",
       "      <td>-1</td>\n",
       "    </tr>\n",
       "    <tr>\n",
       "      <th>7</th>\n",
       "      <td>7</td>\n",
       "      <td>Data Scientist</td>\n",
       "      <td>$137K-$171K (Glassdoor est.)</td>\n",
       "      <td>Introduction\\n\\nHave you always wanted to run ...</td>\n",
       "      <td>3.5</td>\n",
       "      <td>iRobot\\n3.5</td>\n",
       "      <td>Bedford, MA</td>\n",
       "      <td>Bedford, MA</td>\n",
       "      <td>1001 to 5000 employees</td>\n",
       "      <td>1990</td>\n",
       "      <td>Company - Public</td>\n",
       "      <td>Consumer Electronics &amp; Appliances Stores</td>\n",
       "      <td>Retail</td>\n",
       "      <td>$1 to $2 billion (USD)</td>\n",
       "      <td>-1</td>\n",
       "    </tr>\n",
       "    <tr>\n",
       "      <th>8</th>\n",
       "      <td>8</td>\n",
       "      <td>Staff Data Scientist - Analytics</td>\n",
       "      <td>$137K-$171K (Glassdoor est.)</td>\n",
       "      <td>Intuit is seeking a Staff Data Scientist to co...</td>\n",
       "      <td>4.4</td>\n",
       "      <td>Intuit - Data\\n4.4</td>\n",
       "      <td>San Diego, CA</td>\n",
       "      <td>Mountain View, CA</td>\n",
       "      <td>5001 to 10000 employees</td>\n",
       "      <td>1983</td>\n",
       "      <td>Company - Public</td>\n",
       "      <td>Computer Hardware &amp; Software</td>\n",
       "      <td>Information Technology</td>\n",
       "      <td>$2 to $5 billion (USD)</td>\n",
       "      <td>Square, PayPal, H&amp;R Block</td>\n",
       "    </tr>\n",
       "    <tr>\n",
       "      <th>9</th>\n",
       "      <td>9</td>\n",
       "      <td>Data Scientist</td>\n",
       "      <td>$137K-$171K (Glassdoor est.)</td>\n",
       "      <td>Ready to write the best chapter of your career...</td>\n",
       "      <td>3.6</td>\n",
       "      <td>XSELL Technologies\\n3.6</td>\n",
       "      <td>Chicago, IL</td>\n",
       "      <td>Chicago, IL</td>\n",
       "      <td>51 to 200 employees</td>\n",
       "      <td>2014</td>\n",
       "      <td>Company - Private</td>\n",
       "      <td>Enterprise Software &amp; Network Solutions</td>\n",
       "      <td>Information Technology</td>\n",
       "      <td>Unknown / Non-Applicable</td>\n",
       "      <td>-1</td>\n",
       "    </tr>\n",
       "  </tbody>\n",
       "</table>\n",
       "</div>"
      ],
      "text/plain": [
       "   index                                 Job Title  \\\n",
       "0      0                         Sr Data Scientist   \n",
       "1      1                            Data Scientist   \n",
       "2      2                            Data Scientist   \n",
       "3      3                            Data Scientist   \n",
       "4      4                            Data Scientist   \n",
       "5      5                            Data Scientist   \n",
       "6      6  Data Scientist / Machine Learning Expert   \n",
       "7      7                            Data Scientist   \n",
       "8      8          Staff Data Scientist - Analytics   \n",
       "9      9                            Data Scientist   \n",
       "\n",
       "                Salary Estimate  \\\n",
       "0  $137K-$171K (Glassdoor est.)   \n",
       "1  $137K-$171K (Glassdoor est.)   \n",
       "2  $137K-$171K (Glassdoor est.)   \n",
       "3  $137K-$171K (Glassdoor est.)   \n",
       "4  $137K-$171K (Glassdoor est.)   \n",
       "5  $137K-$171K (Glassdoor est.)   \n",
       "6  $137K-$171K (Glassdoor est.)   \n",
       "7  $137K-$171K (Glassdoor est.)   \n",
       "8  $137K-$171K (Glassdoor est.)   \n",
       "9  $137K-$171K (Glassdoor est.)   \n",
       "\n",
       "                                     Job Description  Rating  \\\n",
       "0  Description\\n\\nThe Senior Data Scientist is re...     3.1   \n",
       "1  Secure our Nation, Ignite your Future\\n\\nJoin ...     4.2   \n",
       "2  Overview\\n\\n\\nAnalysis Group is one of the lar...     3.8   \n",
       "3  JOB DESCRIPTION:\\n\\nDo you have a passion for ...     3.5   \n",
       "4  Data Scientist\\nAffinity Solutions / Marketing...     2.9   \n",
       "5  About Us:\\n\\nHeadquartered in beautiful Santa ...     4.2   \n",
       "6  Posting Title\\nData Scientist / Machine Learni...     3.9   \n",
       "7  Introduction\\n\\nHave you always wanted to run ...     3.5   \n",
       "8  Intuit is seeking a Staff Data Scientist to co...     4.4   \n",
       "9  Ready to write the best chapter of your career...     3.6   \n",
       "\n",
       "              Company Name           Location            Headquarters  \\\n",
       "0         Healthfirst\\n3.1       New York, NY            New York, NY   \n",
       "1             ManTech\\n4.2      Chantilly, VA             Herndon, VA   \n",
       "2      Analysis Group\\n3.8         Boston, MA              Boston, MA   \n",
       "3             INFICON\\n3.5         Newton, MA  Bad Ragaz, Switzerland   \n",
       "4  Affinity Solutions\\n2.9       New York, NY            New York, NY   \n",
       "5         HG Insights\\n4.2  Santa Barbara, CA       Santa Barbara, CA   \n",
       "6            Novartis\\n3.9      Cambridge, MA      Basel, Switzerland   \n",
       "7              iRobot\\n3.5        Bedford, MA             Bedford, MA   \n",
       "8       Intuit - Data\\n4.4      San Diego, CA       Mountain View, CA   \n",
       "9  XSELL Technologies\\n3.6        Chicago, IL             Chicago, IL   \n",
       "\n",
       "                      Size  Founded        Type of ownership  \\\n",
       "0   1001 to 5000 employees     1993   Nonprofit Organization   \n",
       "1  5001 to 10000 employees     1968         Company - Public   \n",
       "2   1001 to 5000 employees     1981  Private Practice / Firm   \n",
       "3    501 to 1000 employees     2000         Company - Public   \n",
       "4      51 to 200 employees     1998        Company - Private   \n",
       "5      51 to 200 employees     2010        Company - Private   \n",
       "6         10000+ employees     1996         Company - Public   \n",
       "7   1001 to 5000 employees     1990         Company - Public   \n",
       "8  5001 to 10000 employees     1983         Company - Public   \n",
       "9      51 to 200 employees     2014        Company - Private   \n",
       "\n",
       "                                   Industry                     Sector  \\\n",
       "0                        Insurance Carriers                  Insurance   \n",
       "1                    Research & Development          Business Services   \n",
       "2                                Consulting          Business Services   \n",
       "3     Electrical & Electronic Manufacturing              Manufacturing   \n",
       "4                   Advertising & Marketing          Business Services   \n",
       "5              Computer Hardware & Software     Information Technology   \n",
       "6                 Biotech & Pharmaceuticals  Biotech & Pharmaceuticals   \n",
       "7  Consumer Electronics & Appliances Stores                     Retail   \n",
       "8              Computer Hardware & Software     Information Technology   \n",
       "9   Enterprise Software & Network Solutions     Information Technology   \n",
       "\n",
       "                      Revenue  \\\n",
       "0    Unknown / Non-Applicable   \n",
       "1      $1 to $2 billion (USD)   \n",
       "2  $100 to $500 million (USD)   \n",
       "3  $100 to $500 million (USD)   \n",
       "4    Unknown / Non-Applicable   \n",
       "5    Unknown / Non-Applicable   \n",
       "6          $10+ billion (USD)   \n",
       "7      $1 to $2 billion (USD)   \n",
       "8      $2 to $5 billion (USD)   \n",
       "9    Unknown / Non-Applicable   \n",
       "\n",
       "                                         Competitors  \n",
       "0            EmblemHealth, UnitedHealth Group, Aetna  \n",
       "1                                                 -1  \n",
       "2                                                 -1  \n",
       "3  MKS Instruments, Pfeiffer Vacuum, Agilent Tech...  \n",
       "4               Commerce Signals, Cardlytics, Yodlee  \n",
       "5                                                 -1  \n",
       "6                                                 -1  \n",
       "7                                                 -1  \n",
       "8                          Square, PayPal, H&R Block  \n",
       "9                                                 -1  "
      ]
     },
     "execution_count": 2,
     "metadata": {},
     "output_type": "execute_result"
    }
   ],
   "source": [
    "df = pd.read_csv(r'Uncleaned_DS_jobs.csv')\n",
    "df.head(10) "
   ]
  },
  {
   "cell_type": "markdown",
   "id": "00c24af1-9265-4512-96b3-9e577a011794",
   "metadata": {
    "jp-MarkdownHeadingCollapsed": true
   },
   "source": [
    "#### Rename all columns and make column __Salary Estimate__ more readible"
   ]
  },
  {
   "cell_type": "code",
   "execution_count": 3,
   "id": "4423fae9-eaf3-4518-8330-53ccf1255c8e",
   "metadata": {},
   "outputs": [],
   "source": [
    "df = df.rename(columns= {'Job Description': 'Job_Description','Job Title': 'Job_Title', 'Company Name': 'Company_Name', 'Type of ownership': 'Type_of_ownership'})"
   ]
  },
  {
   "cell_type": "code",
   "execution_count": 4,
   "id": "41250739-8f1e-4118-b2bb-87fdeb733806",
   "metadata": {},
   "outputs": [],
   "source": [
    "df['Salary Estimate'] = df['Salary Estimate'].str.replace('K', '000')\n",
    "df['Salary Estimate'] = df['Salary Estimate'].str.replace('$', '')\n"
   ]
  },
  {
   "cell_type": "markdown",
   "id": "e325206c-6bf6-4d42-8d7b-85cd6b302c69",
   "metadata": {
    "jp-MarkdownHeadingCollapsed": true
   },
   "source": [
    "#### Creating __Max_Salary__ and __Min_Salary__ by spliting column __Salary Estimate__ and working with these columns."
   ]
  },
  {
   "cell_type": "code",
   "execution_count": 5,
   "id": "5ae1a679-ad8a-4944-979f-cbb302e655ec",
   "metadata": {
    "scrolled": true
   },
   "outputs": [],
   "source": [
    "df[['Min_Salary', 'Max_Salary']] = df[\"Salary Estimate\"].str.split('-', expand=True)"
   ]
  },
  {
   "cell_type": "code",
   "execution_count": 6,
   "id": "0d91e618-2708-4179-8629-43a67733aeec",
   "metadata": {},
   "outputs": [],
   "source": [
    "filt = df['Max_Salary'].str.contains('Employer est.', regex=False)\n",
    "df.loc[filt, 'Max_Salary'] = df.loc[filt, 'Max_Salary'].str[:6]"
   ]
  },
  {
   "cell_type": "code",
   "execution_count": 7,
   "id": "4f4ee92c-4388-43a4-a678-a8eea793070f",
   "metadata": {},
   "outputs": [],
   "source": [
    "filt = df['Max_Salary'].str.contains('Glassdoor est.', regex=False)\n",
    "df.loc[filt, 'Max_Salary'] = df.loc[filt, 'Max_Salary'].str[:-17]"
   ]
  },
  {
   "cell_type": "code",
   "execution_count": 8,
   "id": "cc82a3a0-db2a-4e60-a16a-861285ef6463",
   "metadata": {},
   "outputs": [
    {
     "data": {
      "text/plain": [
       "Min_Salary    int32\n",
       "Max_Salary    int32\n",
       "dtype: object"
      ]
     },
     "execution_count": 8,
     "metadata": {},
     "output_type": "execute_result"
    }
   ],
   "source": [
    "df[['Min_Salary', 'Max_Salary']] = df[['Min_Salary', 'Max_Salary']].astype('int')\n",
    "df[['Min_Salary', 'Max_Salary']].dtypes"
   ]
  },
  {
   "cell_type": "code",
   "execution_count": 9,
   "id": "37764aa4-30bc-4979-b233-365e1482a48e",
   "metadata": {},
   "outputs": [],
   "source": [
    "df['Avg_Salary'] = df[['Min_Salary', 'Max_Salary']].mean(axis=1).astype('int')"
   ]
  },
  {
   "cell_type": "markdown",
   "id": "2e432aed-f59a-4d04-9f39-88d9220a6b24",
   "metadata": {
    "jp-MarkdownHeadingCollapsed": true
   },
   "source": [
    "#### Droping duplicates"
   ]
  },
  {
   "cell_type": "code",
   "execution_count": 10,
   "id": "5c07c7f7-5e1e-4e8a-86dd-8c79fb546704",
   "metadata": {},
   "outputs": [
    {
     "name": "stdout",
     "output_type": "stream",
     "text": [
      "<class 'pandas.core.frame.DataFrame'>\n",
      "Index: 659 entries, 0 to 671\n",
      "Data columns (total 18 columns):\n",
      " #   Column             Non-Null Count  Dtype  \n",
      "---  ------             --------------  -----  \n",
      " 0   index              659 non-null    int64  \n",
      " 1   Job_Title          659 non-null    object \n",
      " 2   Salary Estimate    659 non-null    object \n",
      " 3   Job_Description    659 non-null    object \n",
      " 4   Rating             659 non-null    float64\n",
      " 5   Company_Name       659 non-null    object \n",
      " 6   Location           659 non-null    object \n",
      " 7   Headquarters       659 non-null    object \n",
      " 8   Size               659 non-null    object \n",
      " 9   Founded            659 non-null    int64  \n",
      " 10  Type_of_ownership  659 non-null    object \n",
      " 11  Industry           659 non-null    object \n",
      " 12  Sector             659 non-null    object \n",
      " 13  Revenue            659 non-null    object \n",
      " 14  Competitors        659 non-null    object \n",
      " 15  Min_Salary         659 non-null    int32  \n",
      " 16  Max_Salary         659 non-null    int32  \n",
      " 17  Avg_Salary         659 non-null    int32  \n",
      "dtypes: float64(1), int32(3), int64(2), object(12)\n",
      "memory usage: 90.1+ KB\n"
     ]
    }
   ],
   "source": [
    "df[df.duplicated(subset=['Job_Title', 'Job_Description', 'Company_Name', 'Industry', 'Sector', 'Min_Salary', 'Max_Salary']) == 1]\n",
    "df = df.drop_duplicates(subset=['Job_Title', 'Job_Description', 'Company_Name', 'Industry', 'Sector', 'Min_Salary', 'Max_Salary'])\n",
    "df.info()"
   ]
  },
  {
   "cell_type": "markdown",
   "id": "d0d72498-eef5-453d-8ee0-2d2e30561902",
   "metadata": {
    "jp-MarkdownHeadingCollapsed": true
   },
   "source": [
    "#### Clean and split column __Location__"
   ]
  },
  {
   "cell_type": "code",
   "execution_count": 11,
   "id": "0aa9b44c-2711-448e-bf24-695656a76c75",
   "metadata": {},
   "outputs": [
    {
     "data": {
      "text/html": [
       "<div>\n",
       "<style scoped>\n",
       "    .dataframe tbody tr th:only-of-type {\n",
       "        vertical-align: middle;\n",
       "    }\n",
       "\n",
       "    .dataframe tbody tr th {\n",
       "        vertical-align: top;\n",
       "    }\n",
       "\n",
       "    .dataframe thead th {\n",
       "        text-align: right;\n",
       "    }\n",
       "</style>\n",
       "<table border=\"1\" class=\"dataframe\">\n",
       "  <thead>\n",
       "    <tr style=\"text-align: right;\">\n",
       "      <th></th>\n",
       "      <th>index</th>\n",
       "      <th>Job_Title</th>\n",
       "      <th>Salary Estimate</th>\n",
       "      <th>Job_Description</th>\n",
       "      <th>Rating</th>\n",
       "      <th>Company_Name</th>\n",
       "      <th>Location</th>\n",
       "      <th>Headquarters</th>\n",
       "      <th>Size</th>\n",
       "      <th>Founded</th>\n",
       "      <th>...</th>\n",
       "      <th>Industry</th>\n",
       "      <th>Sector</th>\n",
       "      <th>Revenue</th>\n",
       "      <th>Competitors</th>\n",
       "      <th>Min_Salary</th>\n",
       "      <th>Max_Salary</th>\n",
       "      <th>Avg_Salary</th>\n",
       "      <th>City</th>\n",
       "      <th>State</th>\n",
       "      <th>Else</th>\n",
       "    </tr>\n",
       "  </thead>\n",
       "  <tbody>\n",
       "    <tr>\n",
       "      <th>0</th>\n",
       "      <td>0</td>\n",
       "      <td>Sr Data Scientist</td>\n",
       "      <td>137000-171000 (Glassdoor est.)</td>\n",
       "      <td>Description\\n\\nThe Senior Data Scientist is re...</td>\n",
       "      <td>3.1</td>\n",
       "      <td>Healthfirst\\n3.1</td>\n",
       "      <td>New York, NY</td>\n",
       "      <td>New York, NY</td>\n",
       "      <td>1001 to 5000 employees</td>\n",
       "      <td>1993</td>\n",
       "      <td>...</td>\n",
       "      <td>Insurance Carriers</td>\n",
       "      <td>Insurance</td>\n",
       "      <td>Unknown / Non-Applicable</td>\n",
       "      <td>EmblemHealth, UnitedHealth Group, Aetna</td>\n",
       "      <td>137000</td>\n",
       "      <td>171000</td>\n",
       "      <td>154000</td>\n",
       "      <td>New York</td>\n",
       "      <td>NY</td>\n",
       "      <td>None</td>\n",
       "    </tr>\n",
       "    <tr>\n",
       "      <th>1</th>\n",
       "      <td>1</td>\n",
       "      <td>Data Scientist</td>\n",
       "      <td>137000-171000 (Glassdoor est.)</td>\n",
       "      <td>Secure our Nation, Ignite your Future\\n\\nJoin ...</td>\n",
       "      <td>4.2</td>\n",
       "      <td>ManTech\\n4.2</td>\n",
       "      <td>Chantilly, VA</td>\n",
       "      <td>Herndon, VA</td>\n",
       "      <td>5001 to 10000 employees</td>\n",
       "      <td>1968</td>\n",
       "      <td>...</td>\n",
       "      <td>Research &amp; Development</td>\n",
       "      <td>Business Services</td>\n",
       "      <td>$1 to $2 billion (USD)</td>\n",
       "      <td>-1</td>\n",
       "      <td>137000</td>\n",
       "      <td>171000</td>\n",
       "      <td>154000</td>\n",
       "      <td>Chantilly</td>\n",
       "      <td>VA</td>\n",
       "      <td>None</td>\n",
       "    </tr>\n",
       "  </tbody>\n",
       "</table>\n",
       "<p>2 rows × 21 columns</p>\n",
       "</div>"
      ],
      "text/plain": [
       "   index          Job_Title                 Salary Estimate  \\\n",
       "0      0  Sr Data Scientist  137000-171000 (Glassdoor est.)   \n",
       "1      1     Data Scientist  137000-171000 (Glassdoor est.)   \n",
       "\n",
       "                                     Job_Description  Rating  \\\n",
       "0  Description\\n\\nThe Senior Data Scientist is re...     3.1   \n",
       "1  Secure our Nation, Ignite your Future\\n\\nJoin ...     4.2   \n",
       "\n",
       "       Company_Name       Location  Headquarters                     Size  \\\n",
       "0  Healthfirst\\n3.1   New York, NY  New York, NY   1001 to 5000 employees   \n",
       "1      ManTech\\n4.2  Chantilly, VA   Herndon, VA  5001 to 10000 employees   \n",
       "\n",
       "   Founded  ...                Industry             Sector  \\\n",
       "0     1993  ...      Insurance Carriers          Insurance   \n",
       "1     1968  ...  Research & Development  Business Services   \n",
       "\n",
       "                    Revenue                              Competitors  \\\n",
       "0  Unknown / Non-Applicable  EmblemHealth, UnitedHealth Group, Aetna   \n",
       "1    $1 to $2 billion (USD)                                       -1   \n",
       "\n",
       "  Min_Salary  Max_Salary  Avg_Salary       City State  Else  \n",
       "0     137000      171000      154000   New York    NY  None  \n",
       "1     137000      171000      154000  Chantilly    VA  None  \n",
       "\n",
       "[2 rows x 21 columns]"
      ]
     },
     "execution_count": 11,
     "metadata": {},
     "output_type": "execute_result"
    }
   ],
   "source": [
    "df[['City', 'State', 'Else']] = df['Location'].str.split(',', expand=True)\n",
    "df.head(2)"
   ]
  },
  {
   "cell_type": "code",
   "execution_count": 12,
   "id": "477dd2df-6765-4880-a459-354fca1544dc",
   "metadata": {},
   "outputs": [
    {
     "data": {
      "text/html": [
       "<div>\n",
       "<style scoped>\n",
       "    .dataframe tbody tr th:only-of-type {\n",
       "        vertical-align: middle;\n",
       "    }\n",
       "\n",
       "    .dataframe tbody tr th {\n",
       "        vertical-align: top;\n",
       "    }\n",
       "\n",
       "    .dataframe thead th {\n",
       "        text-align: right;\n",
       "    }\n",
       "</style>\n",
       "<table border=\"1\" class=\"dataframe\">\n",
       "  <thead>\n",
       "    <tr style=\"text-align: right;\">\n",
       "      <th></th>\n",
       "      <th>index</th>\n",
       "      <th>Job_Title</th>\n",
       "      <th>Salary Estimate</th>\n",
       "      <th>Job_Description</th>\n",
       "      <th>Rating</th>\n",
       "      <th>Company_Name</th>\n",
       "      <th>Location</th>\n",
       "      <th>Headquarters</th>\n",
       "      <th>Size</th>\n",
       "      <th>Founded</th>\n",
       "      <th>...</th>\n",
       "      <th>Industry</th>\n",
       "      <th>Sector</th>\n",
       "      <th>Revenue</th>\n",
       "      <th>Competitors</th>\n",
       "      <th>Min_Salary</th>\n",
       "      <th>Max_Salary</th>\n",
       "      <th>Avg_Salary</th>\n",
       "      <th>City</th>\n",
       "      <th>State</th>\n",
       "      <th>Else</th>\n",
       "    </tr>\n",
       "  </thead>\n",
       "  <tbody>\n",
       "    <tr>\n",
       "      <th>534</th>\n",
       "      <td>534</td>\n",
       "      <td>Data Scientist</td>\n",
       "      <td>66000-112000 (Glassdoor est.)</td>\n",
       "      <td>Job Description\\nMUST HAVE SECRET CLEARANCE\\n\\...</td>\n",
       "      <td>3.4</td>\n",
       "      <td>MILVETS Systems Technology, Inc.\\n3.4</td>\n",
       "      <td>Patuxent, Anne Arundel, MD</td>\n",
       "      <td>Orlando, FL</td>\n",
       "      <td>51 to 200 employees</td>\n",
       "      <td>1986</td>\n",
       "      <td>...</td>\n",
       "      <td>IT Services</td>\n",
       "      <td>Information Technology</td>\n",
       "      <td>$25 to $50 million (USD)</td>\n",
       "      <td>-1</td>\n",
       "      <td>66000</td>\n",
       "      <td>112000</td>\n",
       "      <td>89000</td>\n",
       "      <td>Patuxent</td>\n",
       "      <td>Anne Arundel</td>\n",
       "      <td>MD</td>\n",
       "    </tr>\n",
       "  </tbody>\n",
       "</table>\n",
       "<p>1 rows × 21 columns</p>\n",
       "</div>"
      ],
      "text/plain": [
       "     index       Job_Title                Salary Estimate  \\\n",
       "534    534  Data Scientist  66000-112000 (Glassdoor est.)   \n",
       "\n",
       "                                       Job_Description  Rating  \\\n",
       "534  Job Description\\nMUST HAVE SECRET CLEARANCE\\n\\...     3.4   \n",
       "\n",
       "                              Company_Name                    Location  \\\n",
       "534  MILVETS Systems Technology, Inc.\\n3.4  Patuxent, Anne Arundel, MD   \n",
       "\n",
       "    Headquarters                 Size  Founded  ...     Industry  \\\n",
       "534  Orlando, FL  51 to 200 employees     1986  ...  IT Services   \n",
       "\n",
       "                     Sector                   Revenue Competitors Min_Salary  \\\n",
       "534  Information Technology  $25 to $50 million (USD)          -1      66000   \n",
       "\n",
       "     Max_Salary  Avg_Salary      City          State Else  \n",
       "534      112000       89000  Patuxent   Anne Arundel   MD  \n",
       "\n",
       "[1 rows x 21 columns]"
      ]
     },
     "execution_count": 12,
     "metadata": {},
     "output_type": "execute_result"
    }
   ],
   "source": [
    "row_problem = df['Else'] == ' MD'\n",
    "df[row_problem]"
   ]
  },
  {
   "cell_type": "code",
   "execution_count": 13,
   "id": "83c8bc7b-ff8f-4af1-9b73-f1749048f9de",
   "metadata": {},
   "outputs": [
    {
     "data": {
      "text/plain": [
       "index                                                              534\n",
       "Job_Title                                               Data Scientist\n",
       "Salary Estimate                          66000-112000 (Glassdoor est.)\n",
       "Job_Description      Job Description\\nMUST HAVE SECRET CLEARANCE\\n\\...\n",
       "Rating                                                             3.4\n",
       "Company_Name                     MILVETS Systems Technology, Inc.\\n3.4\n",
       "Location                                    Patuxent, Anne Arundel, MD\n",
       "Headquarters                                               Orlando, FL\n",
       "Size                                               51 to 200 employees\n",
       "Founded                                                           1986\n",
       "Type_of_ownership                                    Company - Private\n",
       "Industry                                                   IT Services\n",
       "Sector                                          Information Technology\n",
       "Revenue                                       $25 to $50 million (USD)\n",
       "Competitors                                                         -1\n",
       "Min_Salary                                                       66000\n",
       "Max_Salary                                                      112000\n",
       "Avg_Salary                                                       89000\n",
       "City                                                          Patuxent\n",
       "State                                                               MD\n",
       "Else                                                                MD\n",
       "Name: 534, dtype: object"
      ]
     },
     "execution_count": 13,
     "metadata": {},
     "output_type": "execute_result"
    }
   ],
   "source": [
    "df.loc[534, ['State']] = 'MD'\n",
    "df.loc[534]"
   ]
  },
  {
   "cell_type": "code",
   "execution_count": 14,
   "id": "ac7108b4-10e0-4d00-a301-6956794065ff",
   "metadata": {},
   "outputs": [
    {
     "data": {
      "text/plain": [
       "Index(['index', 'Job_Title', 'Salary Estimate', 'Job_Description', 'Rating',\n",
       "       'Company_Name', 'Location', 'Headquarters', 'Size', 'Founded',\n",
       "       'Type_of_ownership', 'Industry', 'Sector', 'Revenue', 'Competitors',\n",
       "       'Min_Salary', 'Max_Salary', 'Avg_Salary', 'City', 'State'],\n",
       "      dtype='object')"
      ]
     },
     "execution_count": 14,
     "metadata": {},
     "output_type": "execute_result"
    }
   ],
   "source": [
    "df = df.drop('Else', axis=1)\n",
    "df.columns"
   ]
  },
  {
   "cell_type": "markdown",
   "id": "3b707ac3-4931-48c7-b937-57ebaeea9518",
   "metadata": {
    "jp-MarkdownHeadingCollapsed": true
   },
   "source": [
    "#### Check __Index__ for values beside float"
   ]
  },
  {
   "cell_type": "code",
   "execution_count": 15,
   "id": "4d99c537-724d-41db-ae3a-66a7f5afa829",
   "metadata": {},
   "outputs": [
    {
     "data": {
      "text/plain": [
       "dtype('float64')"
      ]
     },
     "execution_count": 15,
     "metadata": {},
     "output_type": "execute_result"
    }
   ],
   "source": [
    "df['index'] = df['index'].astype(float)\n",
    "df['index'].dtype"
   ]
  },
  {
   "cell_type": "markdown",
   "id": "412252ad-b165-4a15-bf94-35369089c3d5",
   "metadata": {},
   "source": [
    "##### If I was able to change datatype to float64 without any error that means this column has only numerical value."
   ]
  },
  {
   "cell_type": "markdown",
   "id": "74dee55e-f014-48b0-855b-f5f23e211326",
   "metadata": {
    "jp-MarkdownHeadingCollapsed": true
   },
   "source": [
    "#### Column __Rating__ looking for different values and fix values that are lower than 1 to 0"
   ]
  },
  {
   "cell_type": "code",
   "execution_count": 16,
   "id": "231d7a63-2ce8-4825-a11e-867bb7b19041",
   "metadata": {},
   "outputs": [
    {
     "data": {
      "text/plain": [
       "array([ 3.1,  4.2,  3.8,  3.5,  2.9,  3.9,  4.4,  3.6,  4.5,  4.7,  3.7,\n",
       "        3.4,  4.1,  3.2,  4.3,  2.8,  5. ,  4.8,  3.3,  2.7,  2.2,  2.6,\n",
       "        4. ,  2.5,  4.9,  2.4, -1. ,  2.3,  4.6,  3. ,  2.1,  2. ])"
      ]
     },
     "execution_count": 16,
     "metadata": {},
     "output_type": "execute_result"
    }
   ],
   "source": [
    "df['Rating'].unique()"
   ]
  },
  {
   "cell_type": "code",
   "execution_count": 17,
   "id": "be749d0d-1e0c-4ea3-abe6-6d0ba4a63c75",
   "metadata": {},
   "outputs": [],
   "source": [
    "df[df['Rating'] < 1.]\n",
    "filt = df['Rating'] < 1.\n",
    "df.loc[filt, ['Rating']] = 0"
   ]
  },
  {
   "cell_type": "markdown",
   "id": "e243e688-40d4-482b-9a09-0befcddd5b92",
   "metadata": {
    "jp-MarkdownHeadingCollapsed": true
   },
   "source": [
    "#### __Company_Name__ column, cleaning rightside of the every row that has unnecassary information "
   ]
  },
  {
   "cell_type": "code",
   "execution_count": 18,
   "id": "809bd266-e094-413f-8cc7-591501373950",
   "metadata": {},
   "outputs": [
    {
     "data": {
      "text/plain": [
       "array([False])"
      ]
     },
     "execution_count": 18,
     "metadata": {},
     "output_type": "execute_result"
    }
   ],
   "source": [
    "filt = df['Company_Name'].str.contains('\\n', regex=False)\n",
    "df.loc[filt, 'Company_Name'] = df.loc[filt, 'Company_Name'].str[:-4]\n",
    "df['Company_Name'].str.contains('\\n', regex=False).unique()"
   ]
  },
  {
   "cell_type": "markdown",
   "id": "ae46e5ef-187a-4266-ba74-4b40a019fe63",
   "metadata": {
    "jp-MarkdownHeadingCollapsed": true
   },
   "source": [
    "#### Cleaning column __Headquarters__"
   ]
  },
  {
   "cell_type": "code",
   "execution_count": 19,
   "id": "c6b09f5f-7c46-4230-8ea4-8003ab9089f8",
   "metadata": {},
   "outputs": [
    {
     "data": {
      "text/plain": [
       "array([False])"
      ]
     },
     "execution_count": 19,
     "metadata": {},
     "output_type": "execute_result"
    }
   ],
   "source": [
    "df['Headquarters'].str.contains('\\/.!?').unique()"
   ]
  },
  {
   "cell_type": "markdown",
   "id": "8fe46b46-1c41-4350-912c-e847e3e56dd4",
   "metadata": {
    "jp-MarkdownHeadingCollapsed": true
   },
   "source": [
    "#### Cleaning column __Size__"
   ]
  },
  {
   "cell_type": "code",
   "execution_count": 20,
   "id": "28333aff-3ab0-4835-94eb-0847920272c9",
   "metadata": {},
   "outputs": [
    {
     "data": {
      "text/plain": [
       "array(['1001 to 5000 employees', '5001 to 10000 employees',\n",
       "       '501 to 1000 employees', '51 to 200 employees', '10000+ employees',\n",
       "       '201 to 500 employees', '1 to 50 employees', 'Unknown'],\n",
       "      dtype=object)"
      ]
     },
     "execution_count": 20,
     "metadata": {},
     "output_type": "execute_result"
    }
   ],
   "source": [
    "filt = df['Size'] == '-1'\n",
    "df.loc[filt, 'Size'] = 'Unknown'\n",
    "df['Size'].unique()"
   ]
  },
  {
   "cell_type": "markdown",
   "id": "888f30f3-f747-4b35-ae82-1b798d406873",
   "metadata": {
    "jp-MarkdownHeadingCollapsed": true
   },
   "source": [
    "#### Cleaning column __Type_of_ownership__\n"
   ]
  },
  {
   "cell_type": "code",
   "execution_count": 21,
   "id": "3f805e33-70ac-49c3-80d0-f8b97aa9901d",
   "metadata": {},
   "outputs": [
    {
     "data": {
      "text/plain": [
       "array(['Nonprofit Organization', 'Company - Public',\n",
       "       'Private Practice / Firm', 'Company - Private', 'Government',\n",
       "       'Subsidiary or Business Segment', 'Other Organization', 'Unknown',\n",
       "       'Hospital', 'Self-employed', 'College / University', 'Contract'],\n",
       "      dtype=object)"
      ]
     },
     "execution_count": 21,
     "metadata": {},
     "output_type": "execute_result"
    }
   ],
   "source": [
    "filt = df['Type_of_ownership'] == '-1'\n",
    "df.loc[filt, 'Type_of_ownership'] = 'Unknown'\n",
    "df['Type_of_ownership'].unique()"
   ]
  },
  {
   "cell_type": "markdown",
   "id": "b32905d4-641b-40c1-be14-acbbece07f84",
   "metadata": {
    "jp-MarkdownHeadingCollapsed": true
   },
   "source": [
    "#### Clean column __Industry__"
   ]
  },
  {
   "cell_type": "code",
   "execution_count": 22,
   "id": "92c297de-9fd3-4677-a797-32919cd7c5ad",
   "metadata": {},
   "outputs": [
    {
     "data": {
      "text/plain": [
       "array(['Insurance Carriers', 'Research & Development', 'Consulting',\n",
       "       'Electrical & Electronic Manufacturing', 'Advertising & Marketing',\n",
       "       'Computer Hardware & Software', 'Biotech & Pharmaceuticals',\n",
       "       'Consumer Electronics & Appliances Stores',\n",
       "       'Enterprise Software & Network Solutions', 'IT Services', 'Energy',\n",
       "       'Chemical Manufacturing', 'Federal Agencies', 'Internet',\n",
       "       'Health Care Services & Hospitals',\n",
       "       'Investment Banking & Asset Management', 'Aerospace & Defense',\n",
       "       'Utilities', 'Unknown', 'Express Delivery Services',\n",
       "       'Staffing & Outsourcing', 'Insurance Agencies & Brokerages',\n",
       "       'Consumer Products Manufacturing', 'Industrial Manufacturing',\n",
       "       'Food & Beverage Manufacturing', 'Banks & Credit Unions',\n",
       "       'Video Games', 'Shipping', 'Telecommunications Services',\n",
       "       'Lending', 'Cable, Internet & Telephone Providers', 'Real Estate',\n",
       "       'Venture Capital & Private Equity', 'Miscellaneous Manufacturing',\n",
       "       'Oil & Gas Services', 'Transportation Equipment Manufacturing',\n",
       "       'Telecommunications Manufacturing', 'Transportation Management',\n",
       "       'News Outlet', 'Architectural & Engineering Services',\n",
       "       'Food & Beverage Stores', 'Other Retail Stores',\n",
       "       'Hotels, Motels, & Resorts', 'State & Regional Agencies',\n",
       "       'Financial Transaction Processing', 'Timber Operations',\n",
       "       'Colleges & Universities', 'Travel Agencies', 'Accounting',\n",
       "       'Logistics & Supply Chain', 'Farm Support Services',\n",
       "       'Social Assistance', 'Construction',\n",
       "       'Department, Clothing, & Shoe Stores', 'Publishing',\n",
       "       'Health, Beauty, & Fitness', 'Wholesale', 'Rail'], dtype=object)"
      ]
     },
     "execution_count": 22,
     "metadata": {},
     "output_type": "execute_result"
    }
   ],
   "source": [
    "filt = df['Industry'] == '-1'\n",
    "df.loc[filt, 'Industry'] = 'Unknown'\n",
    "df['Industry'].unique()"
   ]
  },
  {
   "cell_type": "markdown",
   "id": "e644b1ea-587e-4ea6-bccf-0caefe811649",
   "metadata": {
    "jp-MarkdownHeadingCollapsed": true
   },
   "source": [
    "#### Cleaning column __Sector__"
   ]
  },
  {
   "cell_type": "code",
   "execution_count": 23,
   "id": "aec413c9-6a33-4048-981d-5a09e097ccc8",
   "metadata": {},
   "outputs": [
    {
     "data": {
      "text/plain": [
       "array(['Insurance', 'Business Services', 'Manufacturing',\n",
       "       'Information Technology', 'Biotech & Pharmaceuticals', 'Retail',\n",
       "       'Oil, Gas, Energy & Utilities', 'Government', 'Health Care',\n",
       "       'Finance', 'Aerospace & Defense', 'Unknown',\n",
       "       'Transportation & Logistics', 'Media', 'Telecommunications',\n",
       "       'Real Estate', 'Travel & Tourism', 'Agriculture & Forestry',\n",
       "       'Education', 'Accounting & Legal', 'Non-Profit',\n",
       "       'Construction, Repair & Maintenance', 'Consumer Services'],\n",
       "      dtype=object)"
      ]
     },
     "execution_count": 23,
     "metadata": {},
     "output_type": "execute_result"
    }
   ],
   "source": [
    "filt = df['Sector'] == '-1'\n",
    "df.loc[filt, 'Sector'] = 'Unknown'\n",
    "df['Sector'].unique()"
   ]
  },
  {
   "cell_type": "markdown",
   "id": "90e6e796-3476-417c-b32f-b9dfbf0055d3",
   "metadata": {
    "jp-MarkdownHeadingCollapsed": true
   },
   "source": [
    "#### Cleaning column __Revenue__"
   ]
  },
  {
   "cell_type": "code",
   "execution_count": 24,
   "id": "f3e35b94-444f-45fc-91e5-5794e54802c8",
   "metadata": {},
   "outputs": [
    {
     "data": {
      "text/plain": [
       "array(['Unknown / Non-Applicable', '$1 to $2 billion (USD)',\n",
       "       '$100 to $500 million (USD)', '$10+ billion (USD)',\n",
       "       '$2 to $5 billion (USD)', '$500 million to $1 billion (USD)',\n",
       "       '$5 to $10 billion (USD)', '$10 to $25 million (USD)',\n",
       "       '$25 to $50 million (USD)', '$50 to $100 million (USD)',\n",
       "       '$1 to $5 million (USD)', '$5 to $10 million (USD)',\n",
       "       'Less than $1 million (USD)'], dtype=object)"
      ]
     },
     "execution_count": 24,
     "metadata": {},
     "output_type": "execute_result"
    }
   ],
   "source": [
    "filt = df['Revenue'] == '-1'\n",
    "df.loc[filt, 'Revenue'] = 'Unknown / Non-Applicable'\n",
    "df['Revenue'].unique()"
   ]
  },
  {
   "cell_type": "markdown",
   "id": "ecd9e7c6-4ac7-4bc6-a58e-52e877f6119e",
   "metadata": {
    "jp-MarkdownHeadingCollapsed": true
   },
   "source": [
    "#### Cleaning column __Competitors__"
   ]
  },
  {
   "cell_type": "code",
   "execution_count": 25,
   "id": "bcea7940-9609-418a-aab5-13bc48ed888c",
   "metadata": {},
   "outputs": [
    {
     "data": {
      "text/plain": [
       "array(['EmblemHealth, UnitedHealth Group, Aetna', 'Unknown',\n",
       "       'MKS Instruments, Pfeiffer Vacuum, Agilent Technologies',\n",
       "       'Commerce Signals, Cardlytics, Yodlee',\n",
       "       'Square, PayPal, H&R Block',\n",
       "       'Leidos, CACI International, Booz Allen Hamilton',\n",
       "       'Slalom, Daugherty Business Solutions',\n",
       "       'Oak Ridge National Laboratory, National Renewable Energy Lab, Los Alamos National Laboratory',\n",
       "       'CDW, PCM, SHI International',\n",
       "       'Crossix Solutions Inc., AppNexus, The Trade Desk',\n",
       "       'Northwestern Mutual', 'Puppet, Ansible, SaltStack',\n",
       "       'Enlivant, Sunrise Senior Living, Brookdale Senior Living',\n",
       "       'TrueCar, Cars.com, Kelley Blue Book',\n",
       "       'Travelers, Allstate, State Farm', 'Novartis, Baxter, Pfizer',\n",
       "       'Skyhigh Networks, Zscaler, NortonLifeLock',\n",
       "       'Facebook, Google, Pinterest', 'DoorDash, Uber, Grubhub',\n",
       "       'Munich Re, Hannover RE, SCOR', \"IMAGE Skincare, Aveda, Kiehl's\",\n",
       "       'Luxoft, EPAM, Capgemini Invent', 'Sequenom',\n",
       "       'Linqia, Collective Bias', 'John Deere, Komatsu, CNH Industrial',\n",
       "       'Thermo Fisher Scientific, Enzymatics, Illumina',\n",
       "       'CUNA Mutual, SWBC, Overby-Seawell', 'Zola Registry',\n",
       "       'Colony Specialty, Markel, RLI',\n",
       "       'Roche, GlaxoSmithKline, Novartis',\n",
       "       'Solution Design Group, Intertech (Minnesota)',\n",
       "       'Braintree, Authorize.Net, PayPal', 'Nielsen, Zappi, SurveyMonkey',\n",
       "       'The World Bank, IMF', 'Booz Allen Hamilton, CACI International',\n",
       "       'Booz Allen Hamilton, SAIC, LMI', 'Epic, CipherHealth',\n",
       "       'Copper River Shared Services, Chenega Corporation, Deloitte',\n",
       "       'Battelle, General Atomics, SAIC', 'IQVIA, ICON',\n",
       "       'Arbella Insurance, Safety Insurance',\n",
       "       'Engagio, Bombora, Terminus', 'SAIC, Leidos, Northrop Grumman',\n",
       "       'Bosch, Lear Corporation, Faurecia', 'Covance, ICON',\n",
       "       'Adecco, ManpowerGroup, Allegis Corporation',\n",
       "       'GE Digital, Palantir Technologies, Uptake', 'PRA Group',\n",
       "       'Genomic Health, 23andMe, Illumina',\n",
       "       'Bromium, FireEye, Authentic8', 'Drip, iContact, Mailchimp',\n",
       "       \"Children's Health, Texas Health Resources, Baylor Scott & White Health\",\n",
       "       'Harris, Fibertek', 'Monster Worldwide, CareerBuilder, Craigslist',\n",
       "       'Los Alamos National Laboratory, Battelle, SRI International',\n",
       "       'ManTech, Booz Allen Hamilton, Leidos',\n",
       "       'Lumentum Operations, Keysight Technologies, O-Net Technologies',\n",
       "       'Square, Amazon, Apple', 'Pfizer, GlaxoSmithKline',\n",
       "       'DHL Supply Chain, UPS, FedEx',\n",
       "       'Raytheon Technologies, General Dynamics, MIT Lincoln Laboratory',\n",
       "       'Eaton, SMC Corporation, Bosch Rexroth',\n",
       "       'Advisory Board, Booz Allen Hamilton, McKinsey & Company',\n",
       "       'Amazon, Apple', 'Covidien, Boston Scientific', 'AT&T, Verizon',\n",
       "       'Los Alamos National Laboratory, NASA Jet Propulsion Laboratory, Sandia National Laboratories',\n",
       "       'Fluor, Bechtel, AECOM', 'Intertek, SGS, Bureau Veritas',\n",
       "       'Lockheed Martin, Caterpillar, John Deere',\n",
       "       'Activision Blizzard, Electronic Arts',\n",
       "       'MediaMath, Conversant, AppNexus', 'Pfizer, AstraZeneca, Merck',\n",
       "       'Archibus, iOffice, Planon',\n",
       "       'ACRT Services, Bartlett Tree Experts',\n",
       "       'TASC, Vencore, Booz Allen Hamilton',\n",
       "       'Seagate Technology, Toshiba',\n",
       "       'Raytheon Technologies, Northrop Grumman, Booz Allen Hamilton',\n",
       "       'MIT Lincoln Laboratory, Lockheed Martin, Northrop Grumman',\n",
       "       'Kforce, PageGroup, Robert Half',\n",
       "       'TEKsystems, Kforce, Randstad US',\n",
       "       'South Carolina Electric & Gas, Virginia Electric and Power',\n",
       "       'Cadence Design Systems, Synopsys, Altium Limited',\n",
       "       'CGI (Nevada), Accenture, Deloitte', 'Accenture, Deloitte, PwC',\n",
       "       'Bechtel Jacobs, Black & Veatch, HNTB', 'Adecco, Manpower',\n",
       "       'Acxiom, Merkle, Epsilon (North Carolina)',\n",
       "       'Amazon, Accenture, Microsoft',\n",
       "       'Booz Allen Hamilton, Deloitte, ERPi',\n",
       "       'TEKsystems, Insight Global, Accenture',\n",
       "       'H&M, Inditex, Fast Retailing',\n",
       "       'Novartis, AstraZeneca, Siemens Healthineers',\n",
       "       'Aquent, 24 Seven Talent',\n",
       "       'Google, Microsoft, Samsung Electronics',\n",
       "       'AppDynamics, Datadog, Dynatrace',\n",
       "       'Liberty Mutual Insurance, EMPLOYERS, Travelers',\n",
       "       'KPMG, Accenture, Deloitte',\n",
       "       'General Atomics, Boeing, Northrop Grumman',\n",
       "       'Los Alamos National Laboratory, Lawrence Livermore National Laboratory',\n",
       "       'Cognizant Technology Solutions, Infosys, Wipro', 'Humana',\n",
       "       'Accenture, Northrop Grumman, Xerox',\n",
       "       'United Natural Foods, US Foods, DPI Specialty Foods',\n",
       "       'LivePerson, Salesforce, SAP', 'Zurich Insurance, AXA XL, Allianz',\n",
       "       'CSC, ManTech, SAIC',\n",
       "       'Genomic Health, Myriad Genetics, The Broad Institute'],\n",
       "      dtype=object)"
      ]
     },
     "execution_count": 25,
     "metadata": {},
     "output_type": "execute_result"
    }
   ],
   "source": [
    "filt = df['Competitors'] == '-1'\n",
    "df.loc[filt, 'Competitors'] = 'Unknown'\n",
    "df['Competitors'].unique()"
   ]
  },
  {
   "cell_type": "markdown",
   "id": "c7608329-06f5-49d8-8fd8-b8c7688e0c70",
   "metadata": {
    "jp-MarkdownHeadingCollapsed": true
   },
   "source": [
    "#### Deleting __Salary Estimate__, __Location__ and __index__ columns"
   ]
  },
  {
   "cell_type": "code",
   "execution_count": 26,
   "id": "a12b4dea-1cc9-4caa-88fa-6acc42a1aca6",
   "metadata": {},
   "outputs": [],
   "source": [
    "del df['Salary Estimate']\n",
    "del df['Location']\n",
    "del df['index']"
   ]
  },
  {
   "cell_type": "markdown",
   "id": "a7411c4c-2e8d-4935-a95f-62953d294970",
   "metadata": {
    "jp-MarkdownHeadingCollapsed": true
   },
   "source": [
    "#### Cleaning column __Max_Salary__"
   ]
  },
  {
   "cell_type": "code",
   "execution_count": 27,
   "id": "9cc78664-ec9f-47d0-9cc5-cf932cf5f8cb",
   "metadata": {},
   "outputs": [],
   "source": [
    "#filt = df['Max_Salary'].str.contains('Employer est.', regex=False)\n",
    "#df.loc[filt, 'Max_Salary'] = df.loc[filt, 'Max_Salary'].str[:8]\n",
    "#df['Max_Salary'].unique()"
   ]
  },
  {
   "cell_type": "code",
   "execution_count": 28,
   "id": "b1c755c0-1d8d-41fe-bd96-b09ea28db58a",
   "metadata": {},
   "outputs": [],
   "source": [
    "#filt = df['Max_Salary'].str.contains('Glassdoor est.', regex=False)\n",
    "#df.loc[filt, 'Max_Salary'] = df.loc[filt, 'Max_Salary'].str[:-17]\n",
    "#df['Max_Salary'].unique()"
   ]
  },
  {
   "cell_type": "markdown",
   "id": "c4b3c19f-f0d7-43a1-a551-dcc4a3c8dd3b",
   "metadata": {
    "jp-MarkdownHeadingCollapsed": true
   },
   "source": [
    "#### Creating a column which will have job name (data analyst, data engineer or data scientist) if this job name is in __Job_Title__"
   ]
  },
  {
   "cell_type": "code",
   "execution_count": 29,
   "id": "189ffb31-f418-434c-80e2-5cbd976e0823",
   "metadata": {},
   "outputs": [],
   "source": [
    "key_words = ['data scientist', 'data engineer', 'data analyst']\n",
    "\n",
    "def find_matching_words(row):\n",
    "    words = key_words\n",
    "    words_row = row['Job_Title'].lower()\n",
    "    matched_words = [word for word in words if word in words_row]\n",
    "    if matched_words:\n",
    "        return \" \".join(matched_words)\n",
    "    else:\n",
    "        return np.nan\n",
    "        \n",
    "df['Title'] = df.apply(lambda row: find_matching_words(row), axis=1)"
   ]
  },
  {
   "cell_type": "markdown",
   "id": "2122d5ab-a5f6-42d2-8b31-09c90919c747",
   "metadata": {},
   "source": [
    "Now I will remove all the rows that contain nan value in 'Title'"
   ]
  },
  {
   "cell_type": "code",
   "execution_count": 30,
   "id": "370517d1-fd05-456c-9d41-fc570b5f1e61",
   "metadata": {},
   "outputs": [],
   "source": [
    "df = df.dropna(subset=['Title'], how='all')"
   ]
  },
  {
   "cell_type": "markdown",
   "id": "0e719ca9-b49f-4554-99c0-3c70e07ed814",
   "metadata": {
    "jp-MarkdownHeadingCollapsed": true
   },
   "source": [
    "#### Creating column __seniority__"
   ]
  },
  {
   "cell_type": "code",
   "execution_count": 31,
   "id": "041f042a-7a74-4bf6-89e0-49f52cbdc1dd",
   "metadata": {},
   "outputs": [],
   "source": [
    "def seniority(row):\n",
    "    senior = 'senior'\n",
    "    job_title = row['Job_Title'].lower()\n",
    "    if senior in job_title:\n",
    "        return senior\n",
    "    else:\n",
    "        return np.nan\n",
    "        \n",
    "df['seniority'] = df.apply(lambda row: seniority(row), axis=1)"
   ]
  },
  {
   "cell_type": "markdown",
   "id": "640314c2-de86-40f9-82f3-6c4aedc91aef",
   "metadata": {
    "jp-MarkdownHeadingCollapsed": true
   },
   "source": [
    "#### Creating columns for every key skill if it is in column __Job_Description__"
   ]
  },
  {
   "cell_type": "code",
   "execution_count": 32,
   "id": "7d7699bf-2d6a-4d25-9336-d79d5b412bd5",
   "metadata": {},
   "outputs": [],
   "source": [
    "key_skills = ['python', 'sql', 'excel', 'tableau', 'power bi', 'aws', 'spark', 'azure']\n",
    "\n",
    "def skill_find(row, index):\n",
    "    desc = row['Job_Description'].lower()\n",
    "    if key_skills[index] in desc:\n",
    "        return key_skills[index]\n",
    "    else:\n",
    "        return np.nan\n",
    "for index, key_skill_column in enumerate(key_skills):\n",
    "    df[key_skill_column] = df.apply(lambda row: skill_find(row, index), axis=1)\n"
   ]
  },
  {
   "cell_type": "markdown",
   "id": "c9edfa28-26fa-4e61-90eb-83d669349532",
   "metadata": {
    "jp-MarkdownHeadingCollapsed": true
   },
   "source": [
    "#### New order for columns"
   ]
  },
  {
   "cell_type": "code",
   "execution_count": 33,
   "id": "f536647c-552e-4f77-8762-56c4af0ebb86",
   "metadata": {},
   "outputs": [
    {
     "data": {
      "text/plain": [
       "Index(['Job_Title', 'Job_Description', 'Rating', 'Company_Name',\n",
       "       'Headquarters', 'Size', 'Founded', 'Type_of_ownership', 'Industry',\n",
       "       'Sector', 'Revenue', 'Competitors', 'Min_Salary', 'Max_Salary',\n",
       "       'Avg_Salary', 'City', 'State', 'Title', 'seniority', 'python', 'sql',\n",
       "       'excel', 'tableau', 'power bi', 'aws', 'spark', 'azure'],\n",
       "      dtype='object')"
      ]
     },
     "execution_count": 33,
     "metadata": {},
     "output_type": "execute_result"
    }
   ],
   "source": [
    "df.columns"
   ]
  },
  {
   "cell_type": "code",
   "execution_count": 34,
   "id": "875c7c19-92d7-439c-a67d-c49ba0031ccf",
   "metadata": {},
   "outputs": [
    {
     "data": {
      "text/html": [
       "<div>\n",
       "<style scoped>\n",
       "    .dataframe tbody tr th:only-of-type {\n",
       "        vertical-align: middle;\n",
       "    }\n",
       "\n",
       "    .dataframe tbody tr th {\n",
       "        vertical-align: top;\n",
       "    }\n",
       "\n",
       "    .dataframe thead th {\n",
       "        text-align: right;\n",
       "    }\n",
       "</style>\n",
       "<table border=\"1\" class=\"dataframe\">\n",
       "  <thead>\n",
       "    <tr style=\"text-align: right;\">\n",
       "      <th></th>\n",
       "      <th>Job_Title</th>\n",
       "      <th>Min_Salary</th>\n",
       "      <th>Max_Salary</th>\n",
       "      <th>Avg_Salary</th>\n",
       "      <th>Job_Description</th>\n",
       "      <th>Rating</th>\n",
       "      <th>Company_Name</th>\n",
       "      <th>City</th>\n",
       "      <th>State</th>\n",
       "      <th>Headquarters</th>\n",
       "      <th>...</th>\n",
       "      <th>Title</th>\n",
       "      <th>seniority</th>\n",
       "      <th>python</th>\n",
       "      <th>sql</th>\n",
       "      <th>excel</th>\n",
       "      <th>tableau</th>\n",
       "      <th>power bi</th>\n",
       "      <th>aws</th>\n",
       "      <th>spark</th>\n",
       "      <th>azure</th>\n",
       "    </tr>\n",
       "  </thead>\n",
       "  <tbody>\n",
       "    <tr>\n",
       "      <th>0</th>\n",
       "      <td>Sr Data Scientist</td>\n",
       "      <td>137000</td>\n",
       "      <td>171000</td>\n",
       "      <td>154000</td>\n",
       "      <td>Description\\n\\nThe Senior Data Scientist is re...</td>\n",
       "      <td>3.1</td>\n",
       "      <td>Healthfirst</td>\n",
       "      <td>New York</td>\n",
       "      <td>NY</td>\n",
       "      <td>New York, NY</td>\n",
       "      <td>...</td>\n",
       "      <td>data scientist</td>\n",
       "      <td>NaN</td>\n",
       "      <td>NaN</td>\n",
       "      <td>NaN</td>\n",
       "      <td>NaN</td>\n",
       "      <td>NaN</td>\n",
       "      <td>NaN</td>\n",
       "      <td>aws</td>\n",
       "      <td>NaN</td>\n",
       "      <td>azure</td>\n",
       "    </tr>\n",
       "    <tr>\n",
       "      <th>1</th>\n",
       "      <td>Data Scientist</td>\n",
       "      <td>137000</td>\n",
       "      <td>171000</td>\n",
       "      <td>154000</td>\n",
       "      <td>Secure our Nation, Ignite your Future\\n\\nJoin ...</td>\n",
       "      <td>4.2</td>\n",
       "      <td>ManTech</td>\n",
       "      <td>Chantilly</td>\n",
       "      <td>VA</td>\n",
       "      <td>Herndon, VA</td>\n",
       "      <td>...</td>\n",
       "      <td>data scientist</td>\n",
       "      <td>NaN</td>\n",
       "      <td>NaN</td>\n",
       "      <td>sql</td>\n",
       "      <td>NaN</td>\n",
       "      <td>NaN</td>\n",
       "      <td>NaN</td>\n",
       "      <td>NaN</td>\n",
       "      <td>NaN</td>\n",
       "      <td>NaN</td>\n",
       "    </tr>\n",
       "  </tbody>\n",
       "</table>\n",
       "<p>2 rows × 27 columns</p>\n",
       "</div>"
      ],
      "text/plain": [
       "           Job_Title  Min_Salary  Max_Salary  Avg_Salary  \\\n",
       "0  Sr Data Scientist      137000      171000      154000   \n",
       "1     Data Scientist      137000      171000      154000   \n",
       "\n",
       "                                     Job_Description  Rating Company_Name  \\\n",
       "0  Description\\n\\nThe Senior Data Scientist is re...     3.1  Healthfirst   \n",
       "1  Secure our Nation, Ignite your Future\\n\\nJoin ...     4.2      ManTech   \n",
       "\n",
       "        City State  Headquarters  ...           Title  seniority python  sql  \\\n",
       "0   New York    NY  New York, NY  ...  data scientist        NaN    NaN  NaN   \n",
       "1  Chantilly    VA   Herndon, VA  ...  data scientist        NaN    NaN  sql   \n",
       "\n",
       "  excel tableau power bi  aws spark  azure  \n",
       "0   NaN     NaN      NaN  aws   NaN  azure  \n",
       "1   NaN     NaN      NaN  NaN   NaN    NaN  \n",
       "\n",
       "[2 rows x 27 columns]"
      ]
     },
     "execution_count": 34,
     "metadata": {},
     "output_type": "execute_result"
    }
   ],
   "source": [
    "new_order = ['Job_Title', 'Min_Salary', 'Max_Salary', 'Avg_Salary', 'Job_Description', 'Rating',\n",
    "       'Company_Name', 'City', 'State', 'Headquarters', 'Size', 'Founded',\n",
    "       'Type_of_ownership', 'Industry', 'Sector', 'Revenue', 'Competitors', 'Title', 'seniority', 'python', 'sql',\n",
    "       'excel', 'tableau', 'power bi', 'aws', 'spark', 'azure']\n",
    "df = df[new_order]\n",
    "df.head(2)"
   ]
  },
  {
   "cell_type": "markdown",
   "id": "10b0e7ca-0b85-4838-bbe6-b50684c46f9d",
   "metadata": {},
   "source": [
    "#### Write clean and modified data to new csv file\n"
   ]
  },
  {
   "cell_type": "code",
   "execution_count": 35,
   "id": "2a411205-254f-4125-ac52-43f48426c242",
   "metadata": {},
   "outputs": [],
   "source": [
    "df.to_csv('C:/Users/ADMIN/Folder with projects/Cleanded_DS.csv')"
   ]
  }
 ],
 "metadata": {
  "kernelspec": {
   "display_name": "Python 3 (ipykernel)",
   "language": "python",
   "name": "python3"
  },
  "language_info": {
   "codemirror_mode": {
    "name": "ipython",
    "version": 3
   },
   "file_extension": ".py",
   "mimetype": "text/x-python",
   "name": "python",
   "nbconvert_exporter": "python",
   "pygments_lexer": "ipython3",
   "version": "3.10.6"
  }
 },
 "nbformat": 4,
 "nbformat_minor": 5
}
